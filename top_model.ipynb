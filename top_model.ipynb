{
 "cells": [
  {
   "cell_type": "markdown",
   "metadata": {},
   "source": [
    "# Simple CNN model for classification "
   ]
  },
  {
   "cell_type": "code",
   "execution_count": 1,
   "metadata": {
    "ExecuteTime": {
     "end_time": "2017-10-22T23:16:14.433955Z",
     "start_time": "2017-10-22T23:15:53.952927Z"
    },
    "collapsed": false
   },
   "outputs": [
    {
     "name": "stderr",
     "output_type": "stream",
     "text": [
      "Using TensorFlow backend.\n"
     ]
    }
   ],
   "source": [
    "from keras.preprocessing.image import ImageDataGenerator\n",
    "from keras.models import Sequential\n",
    "from keras.layers import Conv2D, MaxPooling2D\n",
    "from keras.layers import Activation, Dropout, Flatten, Dense\n",
    "from keras import backend as K\n",
    "from keras import applications"
   ]
  },
  {
   "cell_type": "code",
   "execution_count": 2,
   "metadata": {
    "ExecuteTime": {
     "end_time": "2017-10-21T21:17:01.663568Z",
     "start_time": "2017-10-21T20:11:57.303246Z"
    },
    "collapsed": false,
    "scrolled": false
   },
   "outputs": [
    {
     "name": "stdout",
     "output_type": "stream",
     "text": [
      "Found 1902 images belonging to 2 classes.\n",
      "Found 98 images belonging to 2 classes.\n",
      "Epoch 1/50\n",
      "118/118 [==============================] - 91s - loss: 0.7632 - acc: 0.5185 - val_loss: 0.6825 - val_acc: 0.6979\n",
      "Epoch 2/50\n",
      "118/118 [==============================] - 80s - loss: 0.6963 - acc: 0.5329 - val_loss: 0.6737 - val_acc: 0.6829\n",
      "Epoch 3/50\n",
      "118/118 [==============================] - 77s - loss: 0.6810 - acc: 0.5711 - val_loss: 0.6531 - val_acc: 0.5854\n",
      "Epoch 4/50\n",
      "118/118 [==============================] - 77s - loss: 0.6831 - acc: 0.5949 - val_loss: 0.6340 - val_acc: 0.6341\n",
      "Epoch 5/50\n",
      "118/118 [==============================] - 85s - loss: 0.6689 - acc: 0.6167 - val_loss: 0.7459 - val_acc: 0.5854\n",
      "Epoch 6/50\n",
      "118/118 [==============================] - 81s - loss: 0.6634 - acc: 0.6234 - val_loss: 0.6611 - val_acc: 0.6585\n",
      "Epoch 7/50\n",
      "118/118 [==============================] - 78s - loss: 0.6630 - acc: 0.6369 - val_loss: 0.7136 - val_acc: 0.6341\n",
      "Epoch 8/50\n",
      "118/118 [==============================] - 77s - loss: 0.6571 - acc: 0.6398 - val_loss: 0.6553 - val_acc: 0.6098\n",
      "Epoch 9/50\n",
      "118/118 [==============================] - 76s - loss: 0.6336 - acc: 0.6755 - val_loss: 0.6894 - val_acc: 0.6585\n",
      "Epoch 10/50\n",
      "118/118 [==============================] - 76s - loss: 0.6331 - acc: 0.6521 - val_loss: 0.9424 - val_acc: 0.5732\n",
      "Epoch 11/50\n",
      "118/118 [==============================] - 84s - loss: 0.6193 - acc: 0.6735 - val_loss: 0.7260 - val_acc: 0.6098\n",
      "Epoch 12/50\n",
      "118/118 [==============================] - 80s - loss: 0.6063 - acc: 0.6936 - val_loss: 0.6471 - val_acc: 0.5854\n",
      "Epoch 13/50\n",
      "118/118 [==============================] - 79s - loss: 0.6000 - acc: 0.6892 - val_loss: 1.0389 - val_acc: 0.5488\n",
      "Epoch 14/50\n",
      "118/118 [==============================] - 81s - loss: 0.5987 - acc: 0.6929 - val_loss: 0.9114 - val_acc: 0.5732\n",
      "Epoch 15/50\n",
      "118/118 [==============================] - 78s - loss: 0.6086 - acc: 0.6811 - val_loss: 0.7060 - val_acc: 0.5976\n",
      "Epoch 16/50\n",
      "118/118 [==============================] - 77s - loss: 0.5942 - acc: 0.6988 - val_loss: 0.6324 - val_acc: 0.6463\n",
      "Epoch 17/50\n",
      "118/118 [==============================] - 79s - loss: 0.5854 - acc: 0.7014 - val_loss: 0.7453 - val_acc: 0.6585\n",
      "Epoch 18/50\n",
      "118/118 [==============================] - 77s - loss: 0.6100 - acc: 0.7053 - val_loss: 0.7279 - val_acc: 0.5854\n",
      "Epoch 19/50\n",
      "118/118 [==============================] - 78s - loss: 0.5764 - acc: 0.7121 - val_loss: 1.0187 - val_acc: 0.5854\n",
      "Epoch 20/50\n",
      "118/118 [==============================] - 77s - loss: 0.5756 - acc: 0.7026 - val_loss: 0.8625 - val_acc: 0.5366\n",
      "Epoch 21/50\n",
      "118/118 [==============================] - 78s - loss: 0.5575 - acc: 0.7164 - val_loss: 1.0088 - val_acc: 0.5000\n",
      "Epoch 22/50\n",
      "118/118 [==============================] - 77s - loss: 0.5563 - acc: 0.7221 - val_loss: 0.7897 - val_acc: 0.6098\n",
      "Epoch 23/50\n",
      "118/118 [==============================] - 75s - loss: 0.5669 - acc: 0.7090 - val_loss: 0.7445 - val_acc: 0.6220\n",
      "Epoch 24/50\n",
      "118/118 [==============================] - 75s - loss: 0.5605 - acc: 0.7251 - val_loss: 0.7260 - val_acc: 0.5610\n",
      "Epoch 25/50\n",
      "118/118 [==============================] - 75s - loss: 0.5460 - acc: 0.7220 - val_loss: 0.8618 - val_acc: 0.5122\n",
      "Epoch 26/50\n",
      "118/118 [==============================] - 76s - loss: 0.5514 - acc: 0.7249 - val_loss: 0.6497 - val_acc: 0.6951\n",
      "Epoch 27/50\n",
      "118/118 [==============================] - 75s - loss: 0.5395 - acc: 0.7399 - val_loss: 0.5956 - val_acc: 0.7073\n",
      "Epoch 28/50\n",
      "118/118 [==============================] - 75s - loss: 0.5537 - acc: 0.7344 - val_loss: 0.7349 - val_acc: 0.6220\n",
      "Epoch 29/50\n",
      "118/118 [==============================] - 75s - loss: 0.5581 - acc: 0.7456 - val_loss: 0.6057 - val_acc: 0.7561\n",
      "Epoch 30/50\n",
      "118/118 [==============================] - 77s - loss: 0.5647 - acc: 0.7323 - val_loss: 0.6568 - val_acc: 0.5976\n",
      "Epoch 31/50\n",
      "118/118 [==============================] - 76s - loss: 0.5394 - acc: 0.7392 - val_loss: 1.0829 - val_acc: 0.5366\n",
      "Epoch 32/50\n",
      "118/118 [==============================] - 76s - loss: 0.5295 - acc: 0.7492 - val_loss: 0.6778 - val_acc: 0.5732\n",
      "Epoch 33/50\n",
      "118/118 [==============================] - 76s - loss: 0.5567 - acc: 0.7477 - val_loss: 0.6744 - val_acc: 0.6585\n",
      "Epoch 34/50\n",
      "118/118 [==============================] - 78s - loss: 0.5365 - acc: 0.7561 - val_loss: 0.7485 - val_acc: 0.6463\n",
      "Epoch 35/50\n",
      "118/118 [==============================] - 76s - loss: 0.5499 - acc: 0.7323 - val_loss: 0.8774 - val_acc: 0.5488\n",
      "Epoch 36/50\n",
      "118/118 [==============================] - 76s - loss: 0.5426 - acc: 0.7509 - val_loss: 0.7093 - val_acc: 0.6585\n",
      "Epoch 37/50\n",
      "118/118 [==============================] - 76s - loss: 0.5019 - acc: 0.7513 - val_loss: 0.8671 - val_acc: 0.6220\n",
      "Epoch 38/50\n",
      "118/118 [==============================] - 76s - loss: 0.5619 - acc: 0.7290 - val_loss: 0.7835 - val_acc: 0.6341\n",
      "Epoch 39/50\n",
      "118/118 [==============================] - 76s - loss: 0.5252 - acc: 0.7430 - val_loss: 1.2039 - val_acc: 0.5854\n",
      "Epoch 40/50\n",
      "118/118 [==============================] - 76s - loss: 0.4997 - acc: 0.7639 - val_loss: 0.7602 - val_acc: 0.5976\n",
      "Epoch 41/50\n",
      "118/118 [==============================] - 76s - loss: 0.5162 - acc: 0.7610 - val_loss: 0.7285 - val_acc: 0.6220\n",
      "Epoch 42/50\n",
      "118/118 [==============================] - 76s - loss: 0.5146 - acc: 0.7496 - val_loss: 0.7353 - val_acc: 0.6341\n",
      "Epoch 43/50\n",
      "118/118 [==============================] - 76s - loss: 0.5327 - acc: 0.7531 - val_loss: 1.0459 - val_acc: 0.6463\n",
      "Epoch 44/50\n",
      "118/118 [==============================] - 76s - loss: 0.5369 - acc: 0.7566 - val_loss: 0.7150 - val_acc: 0.5854\n",
      "Epoch 45/50\n",
      "118/118 [==============================] - 76s - loss: 0.5100 - acc: 0.7547 - val_loss: 0.7095 - val_acc: 0.6220\n",
      "Epoch 46/50\n",
      "118/118 [==============================] - 81s - loss: 0.5238 - acc: 0.7551 - val_loss: 0.9069 - val_acc: 0.6341\n",
      "Epoch 47/50\n",
      "118/118 [==============================] - 77s - loss: 0.5224 - acc: 0.7576 - val_loss: 1.0035 - val_acc: 0.6098\n",
      "Epoch 48/50\n",
      "118/118 [==============================] - 77s - loss: 0.5282 - acc: 0.7705 - val_loss: 0.7281 - val_acc: 0.5244\n",
      "Epoch 49/50\n",
      "118/118 [==============================] - 77s - loss: 0.5291 - acc: 0.7504 - val_loss: 0.8037 - val_acc: 0.6341\n",
      "Epoch 50/50\n",
      "118/118 [==============================] - 76s - loss: 0.5187 - acc: 0.7534 - val_loss: 0.9768 - val_acc: 0.6220\n"
     ]
    }
   ],
   "source": [
    "# dimensions of our images.\n",
    "img_width, img_height = 299, 299\n",
    "\n",
    "train_data_dir = 'data/train'\n",
    "validation_data_dir = 'data/test'\n",
    "nb_train_samples = 1902\n",
    "nb_validation_samples = 98\n",
    "epochs = 50\n",
    "batch_size = 16\n",
    "\n",
    "if K.image_data_format() == 'channels_first':\n",
    "    input_shape = (3, img_width, img_height)\n",
    "else:\n",
    "    input_shape = (img_width, img_height, 3)\n",
    "\n",
    "model = Sequential()\n",
    "model.add(Conv2D(32, (3, 3), input_shape=input_shape))\n",
    "model.add(Activation('relu'))\n",
    "model.add(MaxPooling2D(pool_size=(2, 2)))\n",
    "\n",
    "model.add(Conv2D(32, (3, 3)))\n",
    "model.add(Activation('relu'))\n",
    "model.add(MaxPooling2D(pool_size=(2, 2)))\n",
    "\n",
    "model.add(Conv2D(64, (3, 3)))\n",
    "model.add(Activation('relu'))\n",
    "model.add(MaxPooling2D(pool_size=(2, 2)))\n",
    "\n",
    "model.add(Flatten())\n",
    "model.add(Dense(64))\n",
    "model.add(Activation('relu'))\n",
    "model.add(Dropout(0.5))\n",
    "model.add(Dense(1))\n",
    "model.add(Activation('sigmoid'))\n",
    "\n",
    "model.compile(loss='binary_crossentropy',\n",
    "              optimizer='rmsprop',\n",
    "              metrics=['accuracy'])\n",
    "\n",
    "# this is the augmentation configuration we will use for training\n",
    "train_datagen = ImageDataGenerator(\n",
    "    rescale=1. / 255,\n",
    "    shear_range=0.2,\n",
    "    zoom_range=0.2,\n",
    "    horizontal_flip=True)\n",
    "\n",
    "# this is the augmentation configuration we will use for testing:\n",
    "# only rescaling\n",
    "test_datagen = ImageDataGenerator(rescale=1. / 255)\n",
    "\n",
    "train_generator = train_datagen.flow_from_directory(\n",
    "    train_data_dir,\n",
    "    target_size=(img_width, img_height),\n",
    "    batch_size=batch_size,\n",
    "    class_mode='binary')\n",
    "\n",
    "validation_generator = test_datagen.flow_from_directory(\n",
    "    validation_data_dir,\n",
    "    target_size=(img_width, img_height),\n",
    "    batch_size=batch_size,\n",
    "    class_mode='binary')\n",
    "\n",
    "model.fit_generator(\n",
    "    train_generator,\n",
    "    steps_per_epoch=nb_train_samples // batch_size,\n",
    "    epochs=epochs,\n",
    "    validation_data=validation_generator,\n",
    "    validation_steps=nb_validation_samples // batch_size)\n",
    "\n",
    "model.save_weights('top_model.h5')"
   ]
  },
  {
   "cell_type": "markdown",
   "metadata": {
    "collapsed": true
   },
   "source": [
    "# Extract features from a pretrained model"
   ]
  },
  {
   "cell_type": "code",
   "execution_count": 2,
   "metadata": {
    "ExecuteTime": {
     "end_time": "2017-10-22T23:16:14.438307Z",
     "start_time": "2017-10-22T23:16:14.435568Z"
    },
    "collapsed": false
   },
   "outputs": [],
   "source": [
    "import numpy as np\n",
    "import h5py"
   ]
  },
  {
   "cell_type": "code",
   "execution_count": 3,
   "metadata": {
    "ExecuteTime": {
     "end_time": "2017-10-22T23:16:14.519822Z",
     "start_time": "2017-10-22T23:16:14.440234Z"
    },
    "collapsed": false
   },
   "outputs": [],
   "source": [
    "# dimensions of our images.\n",
    "img_width, img_height = 299, 299\n",
    "\n",
    "train_data_dir = 'data/train'\n",
    "validation_data_dir = 'data/test'\n",
    "top_model_weights_path = 'top_model.h5'\n",
    "\n",
    "nb_train_samples = 1900\n",
    "nb_validation_samples = 100\n",
    "epochs = 50\n",
    "batch_size = 10\n",
    "\n",
    "if K.image_data_format() == 'channels_first':\n",
    "    input_shape = (3, img_width, img_height)\n",
    "else:\n",
    "    input_shape = (img_width, img_height, 3)"
   ]
  },
  {
   "cell_type": "code",
   "execution_count": 4,
   "metadata": {
    "ExecuteTime": {
     "end_time": "2017-10-22T23:16:14.598389Z",
     "start_time": "2017-10-22T23:16:14.521364Z"
    },
    "collapsed": true
   },
   "outputs": [],
   "source": [
    "def save_bottelneck_features():\n",
    "    \n",
    "    train_datagen = ImageDataGenerator(rescale=1/255)\n",
    "    train_generator = train_datagen.flow_from_directory(train_data_dir,target_size=[299,299],\n",
    "                                                       batch_size=batch_size, class_mode=None,\n",
    "                                                       shuffle=False)\n",
    "    \n",
    "    model = applications.VGG16(weights='imagenet',include_top=False)\n",
    "    bottelneck_features_train = model.predict_generator(train_generator, nb_train_samples // batch_size)\n",
    "    np.save(open('bottelneck_train_features.npy','wb'), bottelneck_features_train)\n",
    "    \n",
    "    validation_datagen = ImageDataGenerator(rescale=1/255)\n",
    "    validation_generator = validation_datagen.flow_from_directory(validation_data_dir, target_size=[299,299],\n",
    "                                                                 batch_size= batch_size, class_mode=None,\n",
    "                                                                 shuffle=False)\n",
    "    \n",
    "    bottelneck_features_validation = model.predict_generator(validation_generator,\n",
    "                                                             nb_validation_samples // batch_size)\n",
    "    np.save(open('bottelneck_features_validation.npy','wb'),bottelneck_features_validation)\n",
    "    \n",
    "def train_model():\n",
    "    \n",
    "    train_data = np.load(open('bottelneck_train_features.npy','rb'))\n",
    "    train_labels = np.array([0]*int(nb_train_samples /2) + [1]*int(nb_train_samples/2))\n",
    "    \n",
    "    validation_data = np.load(open('bottelneck_features_validation.npy','rb'))\n",
    "    validation_labels = np.array([0]*int(nb_validation_samples/2) + [1]*int(nb_validation_samples/2))\n",
    "    \n",
    "    \n",
    "    model = Sequential()\n",
    "    model.add(Flatten(input_shape=train_data.shape[1:]))\n",
    "    model.add(Dense(256,activation='relu'))\n",
    "    model.add(Dense(256,activation='relu'))\n",
    "    model.add(Dropout(0.6))\n",
    "    model.add(Dense(1, activation='sigmoid'))\n",
    "    \n",
    "    model.compile(optimizer='rmsprop',\n",
    "                  loss='binary_crossentropy', metrics=['accuracy'])\n",
    "    \n",
    "    model.fit(train_data, train_labels,\n",
    "              epochs=epochs,\n",
    "              batch_size=batch_size,\n",
    "              validation_data=(validation_data, validation_labels))\n",
    "    \n",
    "    model.save(top_model_weights_path)\n",
    "    \n"
   ]
  },
  {
   "cell_type": "code",
   "execution_count": 14,
   "metadata": {
    "ExecuteTime": {
     "end_time": "2017-10-22T23:15:01.723635Z",
     "start_time": "2017-10-22T23:13:28.930683Z"
    },
    "collapsed": false
   },
   "outputs": [],
   "source": [
    "save_bottelneck_features()"
   ]
  },
  {
   "cell_type": "code",
   "execution_count": 6,
   "metadata": {
    "ExecuteTime": {
     "end_time": "2017-10-22T22:50:09.713111Z",
     "start_time": "2017-10-22T22:50:09.428107Z"
    },
    "collapsed": false
   },
   "outputs": [],
   "source": [
    "train_data = np.load(open('bottelneck_train_features.npy','rb'))\n",
    "train_labels = np.array([0]*int(nb_train_samples /2) + [1]*int(nb_train_samples/2))"
   ]
  },
  {
   "cell_type": "code",
   "execution_count": 12,
   "metadata": {
    "ExecuteTime": {
     "end_time": "2017-10-22T22:56:48.131191Z",
     "start_time": "2017-10-22T22:56:48.124934Z"
    },
    "collapsed": false
   },
   "outputs": [
    {
     "data": {
      "text/plain": [
       "((1900, 9, 9, 512), (1900,))"
      ]
     },
     "execution_count": 12,
     "metadata": {},
     "output_type": "execute_result"
    }
   ],
   "source": [
    "train_data.shape, train_labels.shape"
   ]
  },
  {
   "cell_type": "code",
   "execution_count": 38,
   "metadata": {
    "ExecuteTime": {
     "end_time": "2017-10-22T15:06:47.583079Z",
     "start_time": "2017-10-22T15:06:47.569423Z"
    },
    "collapsed": true
   },
   "outputs": [],
   "source": [
    "validation_data = np.load(open('bottelneck_features_validation.npy','rb'))\n",
    "validation_labels = np.array([0]*int(nb_validation_samples/2) + [1]*int(nb_validation_samples/2))"
   ]
  },
  {
   "cell_type": "code",
   "execution_count": 39,
   "metadata": {
    "ExecuteTime": {
     "end_time": "2017-10-22T15:06:50.013516Z",
     "start_time": "2017-10-22T15:06:50.009793Z"
    },
    "collapsed": false
   },
   "outputs": [
    {
     "data": {
      "text/plain": [
       "((100, 9, 9, 512), (100,))"
      ]
     },
     "execution_count": 39,
     "metadata": {},
     "output_type": "execute_result"
    }
   ],
   "source": [
    "validation_data.shape, validation_labels.shape"
   ]
  },
  {
   "cell_type": "code",
   "execution_count": 5,
   "metadata": {
    "ExecuteTime": {
     "end_time": "2017-10-22T23:34:38.941564Z",
     "start_time": "2017-10-22T23:16:50.957466Z"
    },
    "collapsed": false
   },
   "outputs": [
    {
     "name": "stdout",
     "output_type": "stream",
     "text": [
      "Train on 1900 samples, validate on 100 samples\n",
      "Epoch 1/50\n",
      "1900/1900 [==============================] - 22s - loss: 2.1168 - acc: 0.5184 - val_loss: 0.6931 - val_acc: 0.5000\n",
      "Epoch 2/50\n",
      "1900/1900 [==============================] - 21s - loss: 0.7674 - acc: 0.5205 - val_loss: 0.6975 - val_acc: 0.5000\n",
      "Epoch 3/50\n",
      "1900/1900 [==============================] - 21s - loss: 0.7337 - acc: 0.5305 - val_loss: 0.8208 - val_acc: 0.5200\n",
      "Epoch 4/50\n",
      "1900/1900 [==============================] - 21s - loss: 0.6724 - acc: 0.6342 - val_loss: 0.6467 - val_acc: 0.6400\n",
      "Epoch 5/50\n",
      "1900/1900 [==============================] - 21s - loss: 0.5864 - acc: 0.7211 - val_loss: 0.5641 - val_acc: 0.7100\n",
      "Epoch 6/50\n",
      "1900/1900 [==============================] - 21s - loss: 0.4634 - acc: 0.7779 - val_loss: 0.4849 - val_acc: 0.8100\n",
      "Epoch 7/50\n",
      "1900/1900 [==============================] - 21s - loss: 0.3890 - acc: 0.8300 - val_loss: 0.4813 - val_acc: 0.8400\n",
      "Epoch 8/50\n",
      "1900/1900 [==============================] - 21s - loss: 0.3132 - acc: 0.8574 - val_loss: 0.6345 - val_acc: 0.8000\n",
      "Epoch 9/50\n",
      "1900/1900 [==============================] - 21s - loss: 0.2606 - acc: 0.8868 - val_loss: 0.5315 - val_acc: 0.8400\n",
      "Epoch 10/50\n",
      "1900/1900 [==============================] - 21s - loss: 0.2100 - acc: 0.9005 - val_loss: 0.7280 - val_acc: 0.8200\n",
      "Epoch 11/50\n",
      "1900/1900 [==============================] - 21s - loss: 0.1881 - acc: 0.9200 - val_loss: 0.5687 - val_acc: 0.7500\n",
      "Epoch 12/50\n",
      "1900/1900 [==============================] - 21s - loss: 0.1786 - acc: 0.9289 - val_loss: 0.8002 - val_acc: 0.8300\n",
      "Epoch 13/50\n",
      "1900/1900 [==============================] - 21s - loss: 0.1619 - acc: 0.9495 - val_loss: 0.7987 - val_acc: 0.8600\n",
      "Epoch 14/50\n",
      "1900/1900 [==============================] - 21s - loss: 0.1101 - acc: 0.9584 - val_loss: 1.3675 - val_acc: 0.7200\n",
      "Epoch 15/50\n",
      "1900/1900 [==============================] - 21s - loss: 0.1207 - acc: 0.9668 - val_loss: 1.0727 - val_acc: 0.8300\n",
      "Epoch 16/50\n",
      "1900/1900 [==============================] - 22s - loss: 0.1021 - acc: 0.9663 - val_loss: 0.9897 - val_acc: 0.8700\n",
      "Epoch 17/50\n",
      "1900/1900 [==============================] - 21s - loss: 0.1011 - acc: 0.9647 - val_loss: 1.0446 - val_acc: 0.8100\n",
      "Epoch 18/50\n",
      "1900/1900 [==============================] - 21s - loss: 0.0799 - acc: 0.9784 - val_loss: 1.1683 - val_acc: 0.7900\n",
      "Epoch 19/50\n",
      "1900/1900 [==============================] - 21s - loss: 0.0713 - acc: 0.9816 - val_loss: 2.0372 - val_acc: 0.7800\n",
      "Epoch 20/50\n",
      "1900/1900 [==============================] - 21s - loss: 0.1112 - acc: 0.9768 - val_loss: 1.2446 - val_acc: 0.8200\n",
      "Epoch 21/50\n",
      "1900/1900 [==============================] - 21s - loss: 0.1250 - acc: 0.9811 - val_loss: 1.5431 - val_acc: 0.8000\n",
      "Epoch 22/50\n",
      "1900/1900 [==============================] - 21s - loss: 0.0477 - acc: 0.9889 - val_loss: 1.3165 - val_acc: 0.8100\n",
      "Epoch 23/50\n",
      "1900/1900 [==============================] - 21s - loss: 0.0666 - acc: 0.9889 - val_loss: 1.3431 - val_acc: 0.8100\n",
      "Epoch 24/50\n",
      "1900/1900 [==============================] - 21s - loss: 0.0825 - acc: 0.9853 - val_loss: 1.5133 - val_acc: 0.8200\n",
      "Epoch 25/50\n",
      "1900/1900 [==============================] - 21s - loss: 0.0699 - acc: 0.9889 - val_loss: 1.4868 - val_acc: 0.8600\n",
      "Epoch 26/50\n",
      "1900/1900 [==============================] - 21s - loss: 0.0614 - acc: 0.9905 - val_loss: 1.7877 - val_acc: 0.8200\n",
      "Epoch 27/50\n",
      "1900/1900 [==============================] - 21s - loss: 0.1190 - acc: 0.9826 - val_loss: 5.7378 - val_acc: 0.5900\n",
      "Epoch 28/50\n",
      "1900/1900 [==============================] - 21s - loss: 0.0640 - acc: 0.9874 - val_loss: 1.4776 - val_acc: 0.8300\n",
      "Epoch 29/50\n",
      "1900/1900 [==============================] - 21s - loss: 0.0709 - acc: 0.9884 - val_loss: 2.1669 - val_acc: 0.7600\n",
      "Epoch 30/50\n",
      "1900/1900 [==============================] - 21s - loss: 0.0595 - acc: 0.9874 - val_loss: 1.7929 - val_acc: 0.7800\n",
      "Epoch 31/50\n",
      "1900/1900 [==============================] - 21s - loss: 0.0578 - acc: 0.9900 - val_loss: 2.1046 - val_acc: 0.7800\n",
      "Epoch 32/50\n",
      "1900/1900 [==============================] - 22s - loss: 0.1047 - acc: 0.9868 - val_loss: 1.7457 - val_acc: 0.8400\n",
      "Epoch 33/50\n",
      "1900/1900 [==============================] - 20s - loss: 0.0600 - acc: 0.9932 - val_loss: 1.6934 - val_acc: 0.8200\n",
      "Epoch 34/50\n",
      "1900/1900 [==============================] - 20s - loss: 0.0525 - acc: 0.9895 - val_loss: 1.8202 - val_acc: 0.7800\n",
      "Epoch 35/50\n",
      "1900/1900 [==============================] - 21s - loss: 0.0760 - acc: 0.9905 - val_loss: 2.2786 - val_acc: 0.7500\n",
      "Epoch 36/50\n",
      "1900/1900 [==============================] - 20s - loss: 0.0413 - acc: 0.9932 - val_loss: 1.8241 - val_acc: 0.8400\n",
      "Epoch 37/50\n",
      "1900/1900 [==============================] - 22s - loss: 0.1240 - acc: 0.9884 - val_loss: 1.8717 - val_acc: 0.8300\n",
      "Epoch 38/50\n",
      "1900/1900 [==============================] - 21s - loss: 0.0419 - acc: 0.9921 - val_loss: 1.9109 - val_acc: 0.8500\n",
      "Epoch 39/50\n",
      "1900/1900 [==============================] - 21s - loss: 0.1254 - acc: 0.9832 - val_loss: 1.7331 - val_acc: 0.8400\n",
      "Epoch 40/50\n",
      "1900/1900 [==============================] - 21s - loss: 0.0471 - acc: 0.9937 - val_loss: 1.8935 - val_acc: 0.8200\n",
      "Epoch 41/50\n",
      "1900/1900 [==============================] - 21s - loss: 0.0346 - acc: 0.9947 - val_loss: 2.2635 - val_acc: 0.7900\n",
      "Epoch 42/50\n",
      "1900/1900 [==============================] - 20s - loss: 0.0617 - acc: 0.9932 - val_loss: 1.7503 - val_acc: 0.8300\n",
      "Epoch 43/50\n",
      "1900/1900 [==============================] - 20s - loss: 0.0199 - acc: 0.9958 - val_loss: 2.0166 - val_acc: 0.8200\n",
      "Epoch 44/50\n",
      "1900/1900 [==============================] - 20s - loss: 0.0500 - acc: 0.9947 - val_loss: 2.0418 - val_acc: 0.8200\n",
      "Epoch 45/50\n",
      "1900/1900 [==============================] - 20s - loss: 0.0032 - acc: 0.9984 - val_loss: 4.5174 - val_acc: 0.6300\n",
      "Epoch 46/50\n",
      "1900/1900 [==============================] - 20s - loss: 0.0304 - acc: 0.9947 - val_loss: 1.8813 - val_acc: 0.8300\n",
      "Epoch 47/50\n",
      "1900/1900 [==============================] - 20s - loss: 0.0500 - acc: 0.9932 - val_loss: 2.0910 - val_acc: 0.8200\n",
      "Epoch 48/50\n",
      "1900/1900 [==============================] - 21s - loss: 0.0263 - acc: 0.9968 - val_loss: 1.9382 - val_acc: 0.8500\n",
      "Epoch 49/50\n",
      "1900/1900 [==============================] - 21s - loss: 0.0428 - acc: 0.9947 - val_loss: 2.4227 - val_acc: 0.8100\n",
      "Epoch 50/50\n",
      "1900/1900 [==============================] - 21s - loss: 0.0933 - acc: 0.9905 - val_loss: 2.0897 - val_acc: 0.8100\n"
     ]
    }
   ],
   "source": [
    "train_model()"
   ]
  },
  {
   "cell_type": "code",
   "execution_count": null,
   "metadata": {
    "collapsed": true
   },
   "outputs": [],
   "source": []
  }
 ],
 "metadata": {
  "anaconda-cloud": {},
  "kernelspec": {
   "display_name": "Python [conda root]",
   "language": "python",
   "name": "conda-root-py"
  },
  "language_info": {
   "codemirror_mode": {
    "name": "ipython",
    "version": 3
   },
   "file_extension": ".py",
   "mimetype": "text/x-python",
   "name": "python",
   "nbconvert_exporter": "python",
   "pygments_lexer": "ipython3",
   "version": "3.5.2"
  }
 },
 "nbformat": 4,
 "nbformat_minor": 1
}
