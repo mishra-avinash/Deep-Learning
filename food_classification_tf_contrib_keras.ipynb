{
 "cells": [
  {
   "cell_type": "code",
   "execution_count": 19,
   "metadata": {
    "ExecuteTime": {
     "end_time": "2017-10-14T09:56:30.302757Z",
     "start_time": "2017-10-14T09:56:30.295795Z"
    },
    "collapsed": true
   },
   "outputs": [],
   "source": [
    "from __future__ import print_function\n",
    "import tensorflow as tf\n",
    "import numpy as np\n",
    "import os"
   ]
  },
  {
   "cell_type": "code",
   "execution_count": 26,
   "metadata": {
    "ExecuteTime": {
     "end_time": "2017-10-14T09:59:41.524920Z",
     "start_time": "2017-10-14T09:59:41.520748Z"
    },
    "collapsed": false
   },
   "outputs": [],
   "source": [
    "import tensorflow.contrib.keras as keras"
   ]
  },
  {
   "cell_type": "markdown",
   "metadata": {},
   "source": [
    "### Initialize constant values"
   ]
  },
  {
   "cell_type": "code",
   "execution_count": 5,
   "metadata": {
    "ExecuteTime": {
     "end_time": "2017-10-14T09:48:28.803325Z",
     "start_time": "2017-10-14T09:48:28.794335Z"
    },
    "collapsed": true
   },
   "outputs": [],
   "source": [
    "IMAGE_SIZE = 128,\n",
    "DATA_DIRECTORY = './data'\n"
   ]
  },
  {
   "cell_type": "markdown",
   "metadata": {},
   "source": [
    "# Data preprocessing"
   ]
  },
  {
   "cell_type": "code",
   "execution_count": 28,
   "metadata": {
    "ExecuteTime": {
     "end_time": "2017-10-14T10:00:42.540969Z",
     "start_time": "2017-10-14T10:00:42.298147Z"
    },
    "collapsed": false
   },
   "outputs": [],
   "source": [
    "# from tensorflow.contrib.keras.preprocessing.image import ImageDataGenerator,array_to_img, img_to_array, load_img\n",
    "    \n",
    "datagen = keras.preprocessing.image.ImageDataGenerator()\n",
    "img = keras.preprocessing.image.load_img('./data/train/apple_pie/1005649.jpg')\n",
    "x = keras.preprocessing.image.img_to_array(img)\n",
    "x = x.reshape((1,) + x.shape)\n"
   ]
  },
  {
   "cell_type": "code",
   "execution_count": 29,
   "metadata": {
    "ExecuteTime": {
     "end_time": "2017-10-14T10:02:26.836072Z",
     "start_time": "2017-10-14T10:02:26.458620Z"
    },
    "collapsed": true
   },
   "outputs": [],
   "source": [
    "i = 0\n",
    "for batch in datagen.flow(x, batch_size=1,\n",
    "                          save_to_dir='preview', save_prefix='apple_pie', save_format='jpeg'):\n",
    "    i += 1\n",
    "    if i > 20:\n",
    "        break "
   ]
  },
  {
   "cell_type": "markdown",
   "metadata": {},
   "source": [
    "## Model definitation"
   ]
  },
  {
   "cell_type": "code",
   "execution_count": null,
   "metadata": {
    "collapsed": true
   },
   "outputs": [],
   "source": [
    "model = keras.models.Sequential()\n",
    "model.add(keras.layers.Conv2D(32,(3,3), input_shape=(3,150,150)))\n",
    "model.add(keras.layers.Activation('relu'))\n",
    "model.add(keras.layers.MaxPool2D(pool_size=[2,2]))\n",
    "\n",
    "model.add(keras.layers.Conv2D(32,(3,3)))\n",
    "model.add(keras.layers.Activation('relu'))\n",
    "model.add(keras.layers.MaxPool2D(pool_size=[2,2]))\n",
    "\n",
    "model.add(keras.layers.Conv2D(64,(3,3)))\n",
    "model.add(keras.layers.Activation('relu'))\n",
    "model.add(keras.layers.MaxPool2D(pool_size=[2,2]))\n",
    "\n",
    "model.add(keras.layers.Flatten())\n",
    "model.add(keras.layers.Dense(64))\n",
    "model.add(keras.layers.Activation('relu'))\n",
    "\n",
    "model.add(keras.layers.Dense(1))\n",
    "model.add(keras.layers.Activation('sigmoid'))\n",
    "\n",
    "model.com"
   ]
  },
  {
   "cell_type": "markdown",
   "metadata": {},
   "source": [
    "## Training"
   ]
  },
  {
   "cell_type": "code",
   "execution_count": null,
   "metadata": {
    "collapsed": true
   },
   "outputs": [],
   "source": []
  }
 ],
 "metadata": {
  "anaconda-cloud": {},
  "kernelspec": {
   "display_name": "Python [conda root]",
   "language": "python",
   "name": "conda-root-py"
  },
  "language_info": {
   "codemirror_mode": {
    "name": "ipython",
    "version": 3
   },
   "file_extension": ".py",
   "mimetype": "text/x-python",
   "name": "python",
   "nbconvert_exporter": "python",
   "pygments_lexer": "ipython3",
   "version": "3.5.2"
  }
 },
 "nbformat": 4,
 "nbformat_minor": 1
}
